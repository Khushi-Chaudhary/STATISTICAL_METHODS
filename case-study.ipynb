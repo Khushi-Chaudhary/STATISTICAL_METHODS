{
 "cells": [
  {
   "cell_type": "code",
   "execution_count": null,
   "metadata": {},
   "outputs": [],
   "source": [
    "\n",
    "import matplotlib.pyplot as plt\n",
    "import pandas as pd\n",
    "import numpy as np\n",
    "import seaborn as sns"
   ]
  },
  {
   "cell_type": "code",
   "execution_count": null,
   "metadata": {},
   "outputs": [],
   "source": [
    "\n",
    "df=pd.read_csv(\"NHANES.csv\")\n",
    "df"
   ]
  },
  {
   "cell_type": "code",
   "execution_count": null,
   "metadata": {},
   "outputs": [],
   "source": [
    "\n",
    "df.shape"
   ]
  },
  {
   "cell_type": "code",
   "execution_count": null,
   "metadata": {},
   "outputs": [],
   "source": [
    "\n",
    "data = df.loc[:,('SEQN','SMQ020', 'RIAGENDR', 'RIDAGEYR','DMDEDUC2','BMXWT', 'BMXHT', 'BMXBMI')]\n",
    "data.head()"
   ]
  },
  {
   "cell_type": "code",
   "execution_count": null,
   "metadata": {},
   "outputs": [],
   "source": [
    "\n",
    "data.info()"
   ]
  },
  {
   "cell_type": "code",
   "execution_count": null,
   "metadata": {},
   "outputs": [],
   "source": [
    "\n",
    "data.columns = ['seqn','smoking','gender', 'age','education','weight','height','bmi']\n",
    "data.head()"
   ]
  },
  {
   "cell_type": "code",
   "execution_count": null,
   "metadata": {},
   "outputs": [],
   "source": [
    "\n",
    "duplicateRowsDF = data[data.duplicated()]\n",
    "duplicateRowsDF"
   ]
  },
  {
   "cell_type": "code",
   "execution_count": null,
   "metadata": {},
   "outputs": [],
   "source": [
    "\n",
    "data.drop(columns = 'seqn', inplace = True)\n",
    "data.head()"
   ]
  },
  {
   "cell_type": "code",
   "execution_count": null,
   "metadata": {},
   "outputs": [],
   "source": [
    "\n",
    "data.drop(columns = 'seqn', inplace = True)\n",
    "data.head()"
   ]
  },
  {
   "cell_type": "code",
   "execution_count": null,
   "metadata": {},
   "outputs": [],
   "source": [
    "\n",
    "data.dropna(inplace=True)"
   ]
  },
  {
   "cell_type": "code",
   "execution_count": null,
   "metadata": {},
   "outputs": [],
   "source": [
    "\n",
    "numerical = ['age','weight','height','bmi']\n",
    "data[numerical].describe()"
   ]
  },
  {
   "cell_type": "code",
   "execution_count": null,
   "metadata": {},
   "outputs": [],
   "source": [
    "\n",
    "fig, axs = plt.subplots(2,2, figsize=(15, 10))\n",
    "     \n",
    "sns.histplot(data= data, x=\"age\", kde=True, color=\"red\", ax=axs[0,0])\n",
    "sns.histplot(data= data, x=\"weight\", kde=True, color=\"orange\", ax=axs[0,1])\n",
    "sns.histplot(data= data, x=\"height\", kde=True, color=\"blue\", ax=axs[1,0])\n",
    "sns.histplot(data= data, x=\"bmi\", kde=True, color=\"gold\", ax=axs[1,1])\n",
    "plt.show()"
   ]
  },
  {
   "cell_type": "code",
   "execution_count": null,
   "metadata": {},
   "outputs": [],
   "source": [
    "\n",
    "fig, axs = plt.subplots(2,2, figsize=(15,8))\n",
    "sns.boxplot(data['age'], ax = axs[0,0])\n",
    "sns.boxplot(data['weight'], ax = axs[0,1])\n",
    "sns.boxplot(data['height'], ax = axs[1,0])\n",
    "sns.boxplot(data['bmi'], ax = axs[1,1])"
   ]
  },
  {
   "cell_type": "code",
   "execution_count": null,
   "metadata": {},
   "outputs": [],
   "source": [
    "\n",
    "# Height\n",
    "qh25, qh50, qh75 = np.percentile(data['height'], [25,50,75])\n",
    "iqrh = qh75-qh25\n",
    "minh = qh25 - 1.5*iqrh\n",
    "maxh = qh75 + 1.5*iqrh\n",
    "data = data[(data['height'] > minh) & (data['height'] < maxh)]\n",
    "\n",
    "# Weight\n",
    "qw25, qw50, qw75 = np.percentile(data['weight'], [25,50,75])\n",
    "iqrw = qw75-qw25\n",
    "maxw = qh75 + 1.5*iqrw\n",
    "data = data[data['weight'] < maxw]\n",
    "\n",
    "# BMI\n",
    "qb25, qb50, qb75 = np.percentile(data['bmi'], [25,50,75])\n",
    "iqrb = qb75-qb25\n",
    "maxb = qb75 + 1.5*iqrb\n",
    "data = data[data['bmi'] < maxb]\n"
   ]
  },
  {
   "cell_type": "code",
   "execution_count": null,
   "metadata": {},
   "outputs": [],
   "source": [
    "\n",
    "data.isnull().sum()"
   ]
  },
  {
   "cell_type": "code",
   "execution_count": null,
   "metadata": {},
   "outputs": [],
   "source": [
    "\n",
    "fig, axs = plt.subplots(1,3, figsize=(15, 5))\n",
    "      \n",
    "sns.histplot(data= data, x=\"weight\", kde=True, color=\"darkblue\", ax=axs[0])\n",
    "sns.histplot(data= data, x=\"height\", kde=True, color=\"red\", ax=axs[1])\n",
    "sns.histplot(data= data, x=\"bmi\", kde=True, color=\"gold\", ax=axs[2])\n",
    "\n",
    "plt.show()"
   ]
  }
 ],
 "metadata": {
  "language_info": {
   "name": "python"
  },
  "orig_nbformat": 4
 },
 "nbformat": 4,
 "nbformat_minor": 2
}
